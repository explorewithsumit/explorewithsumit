{
 "cells": [
  {
   "cell_type": "markdown",
   "metadata": {
    "application/vnd.databricks.v1+cell": {
     "cellMetadata": {},
     "inputWidgets": {},
     "nuid": "7a0eeac4-4ed2-44ba-8bc2-8ee828b1429f",
     "showTitle": false,
     "tableResultSettingsMap": {},
     "title": ""
    }
   },
   "source": [
    "Table:Employee\n",
    "\n",
    "| empId | name | supervisor| salary |\n",
    "|-------|------|-----------|---------|\n",
    "| 1 | John | 3 | 1000 |\n",
    "| 2 | Dan | 3 | 2000 |\n",
    "| 3 | Brad | null | 4000 |\n",
    "| 4 | Thomas | 3 | 4000 |\n",
    "- empId is the primary key column for this table.\n",
    "\n",
    "Table: Bonus\n",
    "\n",
    "| empId | bonus |\n",
    "|-------|-------|\n",
    "| 2 | 500 |\n",
    "| 4 | 2000 |\n",
    "- empId is the primary key column for this table.\n",
    "\n",
    "**Select all employee's name and bonus whose bonus is < 1000.**\n",
    "\n",
    "Example ouput:\n",
    "\n",
    "| name | bonus |\n",
    "|-------|-------|\n",
    "| John | null |\n",
    "| Dan | 500 |\n",
    "| Brad | null |\n"
   ]
  },
  {
   "cell_type": "code",
   "execution_count": 0,
   "metadata": {
    "application/vnd.databricks.v1+cell": {
     "cellMetadata": {
      "byteLimit": 2048000,
      "rowLimit": 10000
     },
     "inputWidgets": {},
     "nuid": "27b47e9c-60f4-4d06-9653-2e0194d6ba1f",
     "showTitle": false,
     "tableResultSettingsMap": {},
     "title": ""
    }
   },
   "outputs": [],
   "source": [
    "schema_emp = \"empId int, name string, supervisor int, salary int\"\n",
    "data_emp = [(1, \"John\",\t3,\t1000),\n",
    "        (2, \"Dan\",\t3,\t2000),\n",
    "        (3, \"Brad\",\tNone,\t4000),\n",
    "        (4, \"Thomas\",\t3,\t4000)]\n",
    "\n",
    "df_emp = spark.createDataFrame(data = data_emp, schema = schema_emp)\n",
    "\n",
    "display(df_emp)"
   ]
  },
  {
   "cell_type": "code",
   "execution_count": 0,
   "metadata": {
    "application/vnd.databricks.v1+cell": {
     "cellMetadata": {
      "byteLimit": 2048000,
      "rowLimit": 10000
     },
     "inputWidgets": {},
     "nuid": "de9cb6f0-2f72-40a0-a611-cc3cc90b6e60",
     "showTitle": false,
     "tableResultSettingsMap": {},
     "title": ""
    }
   },
   "outputs": [],
   "source": [
    "schema_bonus = \"empId int, bonus int\"\n",
    "data_bonus = [(2, 500), (4, 2000)]\n",
    "df_bonus = spark.createDataFrame(data_bonus, schema_bonus)\n",
    "display(df_bonus)"
   ]
  },
  {
   "cell_type": "code",
   "execution_count": 0,
   "metadata": {
    "application/vnd.databricks.v1+cell": {
     "cellMetadata": {
      "byteLimit": 2048000,
      "rowLimit": 10000
     },
     "inputWidgets": {},
     "nuid": "e819155b-c30a-479f-8155-afde490e676e",
     "showTitle": false,
     "tableResultSettingsMap": {},
     "title": ""
    }
   },
   "outputs": [],
   "source": [
    "df_bonus_less_than_1000 = (df_emp\n",
    "                           .join(df_bonus, [\"empId\"], \"left\")\n",
    "                           .filter(\"bonus < 1000 or bonus is null\")\n",
    "                           .select(\"name\", \"bonus\")\n",
    "                           )\n",
    "                           \n",
    "df_bonus_less_than_1000.display()"
   ]
  }
 ],
 "metadata": {
  "application/vnd.databricks.v1+notebook": {
   "computePreferences": null,
   "dashboards": [],
   "environmentMetadata": null,
   "inputWidgetPreferences": null,
   "language": "python",
   "notebookMetadata": {
    "pythonIndentUnit": 2
   },
   "notebookName": "577. Employee Bonus",
   "widgets": {}
  },
  "language_info": {
   "name": "python"
  }
 },
 "nbformat": 4,
 "nbformat_minor": 0
}
