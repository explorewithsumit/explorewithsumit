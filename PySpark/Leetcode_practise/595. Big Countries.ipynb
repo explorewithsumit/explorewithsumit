{
 "cells": [
  {
   "cell_type": "markdown",
   "metadata": {
    "application/vnd.databricks.v1+cell": {
     "cellMetadata": {},
     "inputWidgets": {},
     "nuid": "a0a5e1eb-89b5-46cc-ad3b-758882425d03",
     "showTitle": false,
     "tableResultSettingsMap": {},
     "title": ""
    }
   },
   "source": [
    "##### There is a table World:\n",
    "\n",
    "| name | continent | area | population | gdp |\n",
    "|--------|----------|-------|------------|-----|\n",
    "| Afghanistan | Asia | 652230 | 25500100 | 20343000 |\n",
    "| Albania | Europe | 28748 | 2831741 | 12960000 |\n",
    "| Algeria | Africa | 2381741 | 37100000 | 188681000 |\n",
    "| Andorra | Europe | 468 | 78115 | 3712000 |\n",
    "| Angola | Africa | 1246700 | 20609294 | 100990000 |\n",
    "\n",
    "A country is big if it has an area of bigger than 3 million square km or a population of more than 25 million.\n",
    "\n",
    "##### Write a SQL solution to output big countries' name, population and area. \n",
    "For example, according to the above table, we should output:\n",
    "\n",
    "| name | population | area |\n",
    "|--------------|-------------|--------------|\n",
    "| Afghanistan | 25500100 | 652230 |\n",
    "| Algeria | 37100000 | 2381741 |\n"
   ]
  },
  {
   "cell_type": "code",
   "execution_count": 0,
   "metadata": {
    "application/vnd.databricks.v1+cell": {
     "cellMetadata": {
      "byteLimit": 2048000,
      "rowLimit": 10000
     },
     "inputWidgets": {},
     "nuid": "4090f77f-a776-44a6-99d4-3e067a7927f7",
     "showTitle": false,
     "tableResultSettingsMap": {},
     "title": ""
    }
   },
   "outputs": [],
   "source": [
    "schema = \"name string, continent string, area int, population int, gdp int\"\n",
    "data = [(\"Afghanistan\", \"Asia\", 652230, 25500100, 20343000),\n",
    "        (\"Albania\", \"Europe\", 28748,\t2831741,\t12960000),\n",
    "        (\"Algeria\", \"Africa\", 2381741,\t37100000,\t188681000),\n",
    "        (\"Andorra\", \"Europe\", 468,\t78115,\t3712000),\n",
    "        (\"Angola\", \"Africa\", 1246700,\t20609294,\t100990000)]\n",
    "\n",
    "df_world = spark.createDataFrame(data, schema)\n",
    "df_world.display()"
   ]
  },
  {
   "cell_type": "code",
   "execution_count": 0,
   "metadata": {
    "application/vnd.databricks.v1+cell": {
     "cellMetadata": {
      "byteLimit": 2048000,
      "rowLimit": 10000
     },
     "inputWidgets": {},
     "nuid": "c8e8dba2-dd7a-40cb-a5d8-94da6e283ea4",
     "showTitle": false,
     "tableResultSettingsMap": {},
     "title": ""
    }
   },
   "outputs": [],
   "source": [
    "## Solution 1:\n",
    "\n",
    "from pyspark.sql import functions as F\n",
    "\n",
    "df_big_country = df_world.select(\"name\", \"population\", \"area\").filter((F.col(\"area\") > 3000000) | (F.col(\"population\") > 25000000))\n",
    "\n",
    "df_big_country.display()"
   ]
  },
  {
   "cell_type": "code",
   "execution_count": 0,
   "metadata": {
    "application/vnd.databricks.v1+cell": {
     "cellMetadata": {
      "byteLimit": 2048000,
      "rowLimit": 10000
     },
     "inputWidgets": {},
     "nuid": "71e68d2a-a98c-4b88-9f58-3e9219a71973",
     "showTitle": false,
     "tableResultSettingsMap": {},
     "title": ""
    }
   },
   "outputs": [],
   "source": [
    "## Solution 2:\n",
    "\n",
    "df_world.createOrReplaceTempView(\"tbl_world\")\n",
    "df_big_country = spark.sql(\"SELECT name, population, area FROM tbl_world WHERE area > 3000000 OR population > 25000000\")\n",
    "df_big_country.display()"
   ]
  }
 ],
 "metadata": {
  "application/vnd.databricks.v1+notebook": {
   "computePreferences": null,
   "dashboards": [],
   "environmentMetadata": null,
   "inputWidgetPreferences": null,
   "language": "python",
   "notebookMetadata": {
    "pythonIndentUnit": 2
   },
   "notebookName": "595. Big Countries",
   "widgets": {}
  },
  "language_info": {
   "name": "python"
  }
 },
 "nbformat": 4,
 "nbformat_minor": 0
}
