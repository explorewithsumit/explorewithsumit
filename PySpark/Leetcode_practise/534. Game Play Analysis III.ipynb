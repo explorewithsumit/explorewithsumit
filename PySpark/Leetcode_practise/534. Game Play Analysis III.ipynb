{
 "cells": [
  {
   "cell_type": "markdown",
   "metadata": {
    "application/vnd.databricks.v1+cell": {
     "cellMetadata": {},
     "inputWidgets": {},
     "nuid": "c4cce76d-1001-4546-9090-35c11d036296",
     "showTitle": false,
     "tableResultSettingsMap": {},
     "title": ""
    }
   },
   "source": [
    "Table: Activity <br>\n",
    "+--------------+---------+ <br>\n",
    "| Column Name | Type | <br>\n",
    "+--------------+---------+ <br>\n",
    "| player_id | int | <br>\n",
    "| device_id | int | <br>\n",
    "| event_date | date | <br>\n",
    "| games_played | int | <br>\n",
    "+--------------+---------+ <br>\n",
    "- (player_id, event_date) is the primary key of this table. <br>\n",
    "- This table shows the activity of players of some game.\n",
    "- Each row is a record of a player who logged in and played a number of games\n",
    "- (possibly 0) before logging out on some day using some device.\n",
    "\n",
    "##### Write an SQL query that reports for each player and date, how many games played so far by the player. That is, the total number of games played by the player until that date. Check the example for clarity.\n",
    "The query result format is in the following example: <br>\n",
    "Activity table: <br>\n",
    "+-----------+-----------+------------+--------------+ <br>\n",
    "| player_id | device_id | event_date | games_played | <br>\n",
    "+-----------+-----------+------------+--------------+ <br>\n",
    "| 1 | 2 | 2016-03-01 | 5 | <br>\n",
    "| 1 | 2 | 2016-05-02 | 6 | <br>\n",
    "| 1 | 3 | 2017-06-25 | 1 | <br>\n",
    "| 3 | 1 | 2016-03-02 | 0 | <br>\n",
    "| 3 | 4 | 2018-07-03 | 5 | <br>\n",
    "+-----------+-----------+------------+--------------+ <br>\n",
    "Result table: <br>\n",
    "+-----------+------------+---------------------+ <br>\n",
    "| player_id | event_date | games_played_so_far | <br>\n",
    "+-----------+------------+---------------------+ <br>\n",
    "| 1 | 2016-03-01 | 5 | <br>\n",
    "| 1 | 2016-05-02 | 11 | <br>\n",
    "| 1 | 2017-06-25 | 12 | <br>\n",
    "| 3 | 2016-03-02 | 0 | <br>\n",
    "| 3 | 2018-07-03 | 5 | <br>\n",
    "+-----------+------------+---------------------+ <br>\n",
    "- For the player with id 1, 5 + 6 = 11 games played by 2016-05-02, and 5 + 6 + 1 = 12 games played by 2017-06-25.\n",
    "- For the player with id 3, 0 + 5 = 5 games played by 2018-07-03.\n",
    "\n",
    "Note that for each player we only care about the days when the player logged in."
   ]
  },
  {
   "cell_type": "markdown",
   "metadata": {
    "application/vnd.databricks.v1+cell": {
     "cellMetadata": {},
     "inputWidgets": {},
     "nuid": "fc17a189-0fb0-4cb8-a6c1-cfd986bdf0fc",
     "showTitle": false,
     "tableResultSettingsMap": {},
     "title": ""
    }
   },
   "source": [
    "Creating dataset:"
   ]
  },
  {
   "cell_type": "code",
   "execution_count": 0,
   "metadata": {
    "application/vnd.databricks.v1+cell": {
     "cellMetadata": {
      "byteLimit": 2048000,
      "rowLimit": 10000
     },
     "inputWidgets": {},
     "nuid": "294af981-16ab-4b3b-a789-3c8b3018c4b6",
     "showTitle": false,
     "tableResultSettingsMap": {},
     "title": ""
    }
   },
   "outputs": [],
   "source": [
    "from pyspark.sql.types import DateType\n",
    "schema = \"player_id int, device_id int, event_date string, games_played int\"\n",
    "data = [(1,\t2, \"2016-03-01\", 5),\n",
    "        (1,\t2, \"2016-05-02\", 6),\n",
    "        (2,\t3, \"2017-06-25\", 1),\n",
    "        (3,\t1, \"2016-03-02\", 0),\n",
    "        (3,\t4, \"2018-07-03\", 5)]\n",
    "\n",
    "df = spark.createDataFrame(data = data, schema = schema)\n",
    "\n",
    "df = df.withColumn(\"event_date\", df[\"event_date\"].cast(DateType()))\n",
    "df.display()"
   ]
  },
  {
   "cell_type": "markdown",
   "metadata": {
    "application/vnd.databricks.v1+cell": {
     "cellMetadata": {},
     "inputWidgets": {},
     "nuid": "afd2854e-1822-4aa1-a1de-09cb13364049",
     "showTitle": false,
     "tableResultSettingsMap": {},
     "title": ""
    }
   },
   "source": [
    "PySpark Solution"
   ]
  },
  {
   "cell_type": "code",
   "execution_count": 0,
   "metadata": {
    "application/vnd.databricks.v1+cell": {
     "cellMetadata": {
      "byteLimit": 2048000,
      "rowLimit": 10000
     },
     "inputWidgets": {},
     "nuid": "d9ae6025-92c1-4147-b152-4c905af0e9cb",
     "showTitle": false,
     "tableResultSettingsMap": {},
     "title": ""
    }
   },
   "outputs": [],
   "source": [
    "from pyspark.sql.window import Window\n",
    "from pyspark.sql import functions as F\n",
    "\n",
    "windowSpec = Window.partitionBy(\"player_id\").orderBy(\"event_date\").rangeBetween(Window.unboundedPreceding, 0)\n",
    "\n",
    "df_games_played = (df\n",
    "                   .withColumn(\"games_played_so_far\", F.sum(\"games_played\").over(windowSpec))\n",
    "                   .select(\"player_id\", \"event_date\", \"games_played_so_far\")\n",
    "                   )\n",
    "\n",
    "df_games_played.display()"
   ]
  }
 ],
 "metadata": {
  "application/vnd.databricks.v1+notebook": {
   "computePreferences": null,
   "dashboards": [],
   "environmentMetadata": null,
   "inputWidgetPreferences": null,
   "language": "python",
   "notebookMetadata": {
    "pythonIndentUnit": 2
   },
   "notebookName": "534. Game Play Analysis III",
   "widgets": {}
  },
  "language_info": {
   "name": "python"
  }
 },
 "nbformat": 4,
 "nbformat_minor": 0
}
