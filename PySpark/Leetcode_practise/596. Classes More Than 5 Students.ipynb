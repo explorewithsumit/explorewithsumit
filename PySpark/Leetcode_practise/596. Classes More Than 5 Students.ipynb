{
 "cells": [
  {
   "cell_type": "markdown",
   "metadata": {
    "application/vnd.databricks.v1+cell": {
     "cellMetadata": {},
     "inputWidgets": {},
     "nuid": "9dbe25b6-8ed8-449a-8539-1c79f9c64af5",
     "showTitle": false,
     "tableResultSettingsMap": {},
     "title": ""
    }
   },
   "source": [
    "There is a table courses with columns: student and class. For example, the table:\n",
    "\n",
    "| student | class |\n",
    "|----------|-----------|\n",
    "| A | Math |\n",
    "| B | English |\n",
    "| C | Math |\n",
    "| D | Biology |\n",
    "| E | Math |\n",
    "| F | Computer |\n",
    "| G | Math |\n",
    "| H | Math |\n",
    "| I | Math |\n",
    "\n",
    "Please list out all classes which have more than or equal to 5 students. Expected output:\n",
    "\n",
    "| class |\n",
    "|---------|\n",
    "| Math |\n",
    "\n",
    "Note:\n",
    "The students should not be counted duplicate in each course."
   ]
  },
  {
   "cell_type": "code",
   "execution_count": 0,
   "metadata": {
    "application/vnd.databricks.v1+cell": {
     "cellMetadata": {
      "byteLimit": 2048000,
      "rowLimit": 10000
     },
     "inputWidgets": {},
     "nuid": "1bb5a681-8d9d-4a19-a6f3-b24cf938a3b6",
     "showTitle": false,
     "tableResultSettingsMap": {},
     "title": ""
    }
   },
   "outputs": [],
   "source": [
    "from pyspark.sql.types import StructField, StructType, StringType\n",
    "\n",
    "schema = StructType([\n",
    "    StructField(\"student\", StringType(), True),\n",
    "    StructField(\"class\", StringType(), True)\n",
    "    ])\n",
    "\n",
    "data = [(\"A\", \"Math\"),\n",
    "        (\"B\", \"English\"),\n",
    "        (\"C\", \"Math\"),\n",
    "        (\"D\", \"Biology\"),\n",
    "        (\"E\", \"Math\"),\n",
    "        (\"F\", \"Computer\"),\n",
    "        (\"G\", \"Math\"),\n",
    "        (\"H\", \"Math\"),\n",
    "        (\"I\", \"Math\")]\n",
    "\n",
    "df_courses = spark.createDataFrame(data, schema=schema)\n",
    "\n",
    "df_courses.display()"
   ]
  },
  {
   "cell_type": "code",
   "execution_count": 0,
   "metadata": {
    "application/vnd.databricks.v1+cell": {
     "cellMetadata": {
      "byteLimit": 2048000,
      "rowLimit": 10000
     },
     "inputWidgets": {},
     "nuid": "6205f59f-1f92-486f-9f78-35a7d3f6287c",
     "showTitle": false,
     "tableResultSettingsMap": {},
     "title": ""
    }
   },
   "outputs": [],
   "source": [
    "from pyspark.sql import functions as F\n",
    "\n",
    "df_class_count = df_courses.groupBy(\"class\").agg(F.count(\"Student\").alias(\"class_count\"))\n",
    "df_max_class = df_class_count.select(\"class\").filter(\"class_count >= 5\")\n",
    "\n",
    "display(df_max_class)"
   ]
  }
 ],
 "metadata": {
  "application/vnd.databricks.v1+notebook": {
   "computePreferences": null,
   "dashboards": [],
   "environmentMetadata": null,
   "inputWidgetPreferences": null,
   "language": "python",
   "notebookMetadata": {
    "pythonIndentUnit": 2
   },
   "notebookName": "596. Classes More Than 5 Students",
   "widgets": {}
  },
  "language_info": {
   "name": "python"
  }
 },
 "nbformat": 4,
 "nbformat_minor": 0
}
