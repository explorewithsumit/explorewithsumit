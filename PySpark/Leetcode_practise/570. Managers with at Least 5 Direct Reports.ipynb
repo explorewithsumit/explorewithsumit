{
 "cells": [
  {
   "cell_type": "markdown",
   "metadata": {
    "application/vnd.databricks.v1+cell": {
     "cellMetadata": {},
     "inputWidgets": {},
     "nuid": "8d47488b-b06c-4b4b-a3c2-f83f480c36d1",
     "showTitle": false,
     "tableResultSettingsMap": {},
     "title": ""
    }
   },
   "source": [
    "The Employee table holds all employees including their managers. Every employee has an Id, and there is also a column for the manager Id. <br>\n",
    "+------+----------+-----------+----------+ <br>\n",
    "|Id |Name |Department |ManagerId | <br>\n",
    "+------+----------+-----------+----------+ <br>\n",
    "|101 |John |A |null | <br>\n",
    "|102 |Dan |A |101 | <br>\n",
    "|103 |James |A |101 | <br>\n",
    "|104 |Amy |A |101 | <br>\n",
    "|105 |Anne |A |101 | <br>\n",
    "|106 |Ron |B |101 | <br>\n",
    "+------+----------+-----------+----------+ <br>\n",
    "**Given the Employee table, write a SQL query that finds out managers with at least 5 direct report. For the above table, your SQL query should return:** <br>\n",
    "+-------+ <br>\n",
    "| Name | <br>\n",
    "+-------+ <br>\n",
    "| John | <br>\n",
    "+-------+ <br>\n",
    "**Note**: No one would report to himself."
   ]
  },
  {
   "cell_type": "markdown",
   "metadata": {
    "application/vnd.databricks.v1+cell": {
     "cellMetadata": {},
     "inputWidgets": {},
     "nuid": "af0e67a5-2f92-4a96-9ee3-033a37d2da33",
     "showTitle": false,
     "tableResultSettingsMap": {},
     "title": ""
    }
   },
   "source": [
    "Creating dataset"
   ]
  },
  {
   "cell_type": "code",
   "execution_count": 0,
   "metadata": {
    "application/vnd.databricks.v1+cell": {
     "cellMetadata": {
      "byteLimit": 2048000,
      "rowLimit": 10000
     },
     "inputWidgets": {},
     "nuid": "0de7b232-7c4a-4250-812b-56f599626e6f",
     "showTitle": false,
     "tableResultSettingsMap": {},
     "title": ""
    }
   },
   "outputs": [],
   "source": [
    "from pyspark.sql.types import StructType, StructField, IntegerType, StringType\n",
    "\n",
    "# schema = StructType([\n",
    "#   StructField(\"Id\", IntegerType(), True),\n",
    "#   StructField(\"Name\", StringType(), True),\n",
    "#   StructField(\"Department\", StringType(), True),\n",
    "#   StructField(\"ManagerId\", IntegerType(), True)\n",
    "# ])\n",
    "schema = \"Id int, Name string, Department string, ManagerId int\"\n",
    "data = [(101, \"John\", \"A\", None), \n",
    "         (102, \"Dan\", \"A\", 101), \n",
    "         (103, \"James\", \"A\", 101), \n",
    "         (104, \"Amy\", \"A\", 101), \n",
    "         (105, \"Anne\", \"C\", 101), \n",
    "         (106, \"Dany\", \"D\", 102), \n",
    "         (107, \"Jamy\", \"D\", 102), \n",
    "         (108, \"Amno\", \"C\", 101), \n",
    "         (109, \"Antony\", \"B\", 102),\n",
    "         (110, \"Samy\", \"B\", 103),\n",
    "         (111, \"Ronny\", \"B\", 102)]\n",
    "\n",
    "df = spark.createDataFrame(data = data, schema = schema)\n",
    "\n",
    "df.display()"
   ]
  },
  {
   "cell_type": "code",
   "execution_count": 0,
   "metadata": {
    "application/vnd.databricks.v1+cell": {
     "cellMetadata": {
      "byteLimit": 2048000,
      "rowLimit": 10000
     },
     "inputWidgets": {},
     "nuid": "3106f35e-5c79-4e09-946f-59bc41d634f8",
     "showTitle": false,
     "tableResultSettingsMap": {},
     "title": ""
    }
   },
   "outputs": [],
   "source": [
    "from pyspark.sql.functions import col, count\n",
    "\n",
    "df_manager = (df.alias(\"df1\")\n",
    "              .join(df.alias(\"df2\"), col(\"df1.ManagerId\") == col(\"df2.Id\"), \"inner\")\n",
    "              .groupBy(\"df1.ManagerId\")\n",
    "              .agg(count(\"*\").alias(\"reportee_count\"))\n",
    "              .filter(\"reportee_count >= 5\")\n",
    "              .select(\"ManagerId\")\n",
    "              )\n",
    "\n",
    "df_manager_with_5reportee = (df_manager.alias(\"dfm\")\n",
    "                             .join(df.alias(\"dfe\"), col(\"dfm.ManagerId\") == col(\"dfe.Id\"), \"inner\")\n",
    "                             .select(\"dfe.Name\"))\n",
    "\n",
    "df_manager_with_5reportee.display()"
   ]
  }
 ],
 "metadata": {
  "application/vnd.databricks.v1+notebook": {
   "computePreferences": null,
   "dashboards": [],
   "environmentMetadata": null,
   "inputWidgetPreferences": null,
   "language": "python",
   "notebookMetadata": {
    "pythonIndentUnit": 2
   },
   "notebookName": "570. Managers with at Least 5 Direct Reports",
   "widgets": {}
  },
  "language_info": {
   "name": "python"
  }
 },
 "nbformat": 4,
 "nbformat_minor": 0
}
