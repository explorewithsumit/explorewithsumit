{
 "cells": [
  {
   "cell_type": "code",
   "execution_count": 0,
   "metadata": {
    "application/vnd.databricks.v1+cell": {
     "cellMetadata": {
      "byteLimit": 2048000,
      "rowLimit": 10000
     },
     "inputWidgets": {},
     "nuid": "6a258e4f-b58a-4875-94ac-d660c33e41db",
     "showTitle": false,
     "tableResultSettingsMap": {},
     "title": ""
    }
   },
   "outputs": [],
   "source": [
    "schema = \"City1 string, City2 string, City3 string\"\n",
    "\n",
    "data = [(\"Mumbai\", \"\", \"Kolkata\"), (\"\", \"Kolkata\", \"\"), (\"Vizag\", \"Chennai\", \"\"), (\"\", \"\", \"Bengaluru\")]\n",
    "\n",
    "df = spark.createDataFrame(data = data, schema = schema)\n",
    "\n",
    "display(df)"
   ]
  },
  {
   "cell_type": "code",
   "execution_count": 0,
   "metadata": {
    "application/vnd.databricks.v1+cell": {
     "cellMetadata": {
      "byteLimit": 2048000,
      "rowLimit": 10000
     },
     "inputWidgets": {},
     "nuid": "dcceff20-59ff-40e6-a3e1-d7c5f2b20c99",
     "showTitle": false,
     "tableResultSettingsMap": {},
     "title": ""
    }
   },
   "outputs": [],
   "source": [
    "## Cleaning the empty values\n",
    "from pyspark.sql.functions import col, when\n",
    "\n",
    "df2 = (df\n",
    "       .withColumn(\"City1\", when(col(\"City1\") == '', None).otherwise(col(\"City1\")))\n",
    "       .withColumn(\"City2\", when(col(\"City2\") == '', None).otherwise(col(\"City2\")))\n",
    "       .withColumn(\"City3\", when(col(\"City3\") == '', None).otherwise(col(\"City3\")))\n",
    "       )\n",
    "\n",
    "df2.display()"
   ]
  },
  {
   "cell_type": "code",
   "execution_count": 0,
   "metadata": {
    "application/vnd.databricks.v1+cell": {
     "cellMetadata": {
      "byteLimit": 2048000,
      "rowLimit": 10000
     },
     "inputWidgets": {},
     "nuid": "050f4866-2a05-4007-9259-6543b5670f1a",
     "showTitle": false,
     "tableResultSettingsMap": {},
     "title": ""
    }
   },
   "outputs": [],
   "source": [
    "from pyspark.sql.functions import coalesce\n",
    "\n",
    "df3 = (df2\n",
    "       .withColumn(\"City\", coalesce(col(\"City1\"), col(\"City2\"), col(\"City3\")))\n",
    "       .select(\"City\")\n",
    "       )\n",
    "\n",
    "df3.display()"
   ]
  }
 ],
 "metadata": {
  "application/vnd.databricks.v1+notebook": {
   "computePreferences": null,
   "dashboards": [],
   "environmentMetadata": null,
   "inputWidgetPreferences": null,
   "language": "python",
   "notebookMetadata": {
    "pythonIndentUnit": 2
   },
   "notebookName": "InterviewQuestion1City",
   "widgets": {}
  },
  "language_info": {
   "name": "python"
  }
 },
 "nbformat": 4,
 "nbformat_minor": 0
}
