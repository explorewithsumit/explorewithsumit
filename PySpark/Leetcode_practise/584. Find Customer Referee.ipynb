{
 "cells": [
  {
   "cell_type": "markdown",
   "metadata": {
    "application/vnd.databricks.v1+cell": {
     "cellMetadata": {},
     "inputWidgets": {},
     "nuid": "aea4b8f5-bc93-4f9e-9292-54775dc78417",
     "showTitle": false,
     "tableResultSettingsMap": {},
     "title": ""
    }
   },
   "source": [
    "Given a table customer holding customers information and the referee.\n",
    "\n",
    "| id | name | referee_id|\n",
    "|------|------|-----------|\n",
    "| 1 | Will | NULL |\n",
    "| 2 | Jane | NULL |\n",
    "| 3 | Alex | 2 |\n",
    "| 4 | Bill | NULL |\n",
    "| 5 | Zack | 1 |\n",
    "| 6 | Mark | 2 |\n",
    "\n",
    "Write a query to return the list of customers NOT referred by the person with id '2'.\n",
    "\n",
    "For the sample data above, the result is:\n",
    "\n",
    "| name |\n",
    "|------|\n",
    "| Will |\n",
    "| Jane |\n",
    "| Bill |\n",
    "| Zack |"
   ]
  },
  {
   "cell_type": "code",
   "execution_count": 0,
   "metadata": {
    "application/vnd.databricks.v1+cell": {
     "cellMetadata": {
      "byteLimit": 2048000,
      "rowLimit": 10000
     },
     "inputWidgets": {},
     "nuid": "8368998a-8dc9-40f5-a859-e28d5f839056",
     "showTitle": false,
     "tableResultSettingsMap": {},
     "title": ""
    }
   },
   "outputs": [],
   "source": [
    "schema = \"id int,\tname string,\treferee_id int\"\n",
    "data = [(1,\t\"Will\",\tNone), \n",
    "        (2,\t\"Jane\",\tNone),\n",
    "        (3,\t\"Alex\",\t2),\n",
    "        (4,\t\"Bill\",\tNone),\n",
    "        (5,\t\"Zack\",\t1),\n",
    "        (6,\t\"Mark\",\t2)]\n",
    "\n",
    "df = spark.createDataFrame(data, schema)\n",
    "display(df)"
   ]
  },
  {
   "cell_type": "code",
   "execution_count": 0,
   "metadata": {
    "application/vnd.databricks.v1+cell": {
     "cellMetadata": {
      "byteLimit": 2048000,
      "rowLimit": 10000
     },
     "inputWidgets": {},
     "nuid": "d056fdfd-e5fc-43ac-84d7-798a8eb95b89",
     "showTitle": false,
     "tableResultSettingsMap": {},
     "title": ""
    }
   },
   "outputs": [],
   "source": [
    "from pyspark.sql.functions import col\n",
    "\n",
    "df_ref = (df\n",
    "          .filter((col(\"referee_id\").isNull()) | (col(\"referee_id\") != 2))\n",
    "          .select(\"name\")\n",
    "          )\n",
    "# df_ref = df.filter(\"referee_id is null or referee_id != 2\").select(\"name\")\n",
    "display(df_ref)"
   ]
  }
 ],
 "metadata": {
  "application/vnd.databricks.v1+notebook": {
   "computePreferences": null,
   "dashboards": [],
   "environmentMetadata": null,
   "inputWidgetPreferences": null,
   "language": "python",
   "notebookMetadata": {
    "pythonIndentUnit": 2
   },
   "notebookName": "584. Find Customer Referee",
   "widgets": {}
  },
  "language_info": {
   "name": "python"
  }
 },
 "nbformat": 4,
 "nbformat_minor": 0
}
