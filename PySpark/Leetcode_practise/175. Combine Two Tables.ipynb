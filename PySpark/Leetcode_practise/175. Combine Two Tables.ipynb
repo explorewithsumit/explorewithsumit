{
 "cells": [
  {
   "cell_type": "markdown",
   "metadata": {
    "application/vnd.databricks.v1+cell": {
     "cellMetadata": {},
     "inputWidgets": {},
     "nuid": "320ece99-9834-4057-ab27-39e5c58b16be",
     "showTitle": false,
     "tableResultSettingsMap": {},
     "title": ""
    }
   },
   "source": [
    "##### 175. Combine Two Tables\n",
    "\n",
    "#### Table: Person\n",
    "\n",
    "| Column Name | Type    |\n",
    "|-------------|---------|\n",
    "| PersonId    | int     |\n",
    "| FirstName   | varchar |\n",
    "| LastName    | varchar |\n",
    "\n",
    "- `PersonId` is the primary key column for this table.\n",
    "\n",
    "#### Table: Address\n",
    "\n",
    "| Column Name | Type    |\n",
    "|-------------|---------|\n",
    "| AddressId   | int     |\n",
    "| PersonId    | int     |\n",
    "| City        | varchar |\n",
    "| State       | varchar |\n",
    "\n",
    "- `AddressId` is the primary key column for this table.\n",
    "\n",
    "---\n",
    "\n",
    "##### ❓ Problem\n",
    "\n",
    "Write a SQL query for a report that provides the following information for each person in the **Person** table, regardless of whether there is an address for them:\n",
    "\n",
    "- `FirstName`, `LastName`, `City`, `State`\n"
   ]
  },
  {
   "cell_type": "markdown",
   "metadata": {
    "application/vnd.databricks.v1+cell": {
     "cellMetadata": {
      "byteLimit": 2048000,
      "rowLimit": 10000
     },
     "inputWidgets": {},
     "nuid": "2a881a28-2aa1-4879-8d9d-cc8e8099bbee",
     "showTitle": false,
     "tableResultSettingsMap": {},
     "title": ""
    }
   },
   "source": [
    "##### PySpark Solution"
   ]
  },
  {
   "cell_type": "code",
   "execution_count": 0,
   "metadata": {
    "application/vnd.databricks.v1+cell": {
     "cellMetadata": {
      "byteLimit": 2048000,
      "rowLimit": 10000
     },
     "inputWidgets": {},
     "nuid": "6b6f2184-123f-467b-ba95-8e857a273b46",
     "showTitle": false,
     "tableResultSettingsMap": {},
     "title": ""
    }
   },
   "outputs": [],
   "source": [
    "cols_person = ['PersonId', 'FirstName', 'LastName']\n",
    "cols_address = ['AddressId', 'PersonId', 'City', 'Country']\n",
    "\n",
    "data_person = [(25, \"Alice\", \"Sheron\"),\n",
    "               (30, \"Bob\", \"San\"),\n",
    "               (35, \"Charlie\", \"Angeles\"),\n",
    "               (45, \"Samson\", \"Ignis\")]\n",
    "\n",
    "data_address = [('123AB', '25', 'Washington', 'USA'),\n",
    "                ('345CC', '30', 'New York', 'USA'),\n",
    "                ('888RD', '35', 'California', 'USA'),\n",
    "                ('233HJ', '40', 'Beijing', 'China')]\n",
    "\n",
    "df_person = spark.createDataFrame(data = data_person, schema = cols_person)\n",
    "df_address = spark.createDataFrame(data = data_address, schema = cols_address)"
   ]
  },
  {
   "cell_type": "code",
   "execution_count": 0,
   "metadata": {
    "application/vnd.databricks.v1+cell": {
     "cellMetadata": {
      "byteLimit": 2048000,
      "rowLimit": 10000
     },
     "inputWidgets": {},
     "nuid": "23693b9c-c3ad-42b5-a2e2-8486e6ff8e7e",
     "showTitle": false,
     "tableResultSettingsMap": {},
     "title": ""
    }
   },
   "outputs": [],
   "source": [
    "df_report = df_person.join(df_address, 'PersonId', 'left').select(\"FirstName\", \"LastName\", \"City\", \"Country\")\n",
    "\n",
    "df_report.display()"
   ]
  }
 ],
 "metadata": {
  "application/vnd.databricks.v1+notebook": {
   "computePreferences": null,
   "dashboards": [],
   "environmentMetadata": null,
   "inputWidgetPreferences": null,
   "language": "python",
   "notebookMetadata": {
    "pythonIndentUnit": 2
   },
   "notebookName": "175. Combine Two Tables",
   "widgets": {}
  },
  "language_info": {
   "name": "python"
  }
 },
 "nbformat": 4,
 "nbformat_minor": 0
}
