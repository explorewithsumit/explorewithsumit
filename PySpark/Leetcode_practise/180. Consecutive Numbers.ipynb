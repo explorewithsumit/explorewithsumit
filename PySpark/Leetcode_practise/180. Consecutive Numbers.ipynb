{
 "cells": [
  {
   "cell_type": "markdown",
   "metadata": {
    "application/vnd.databricks.v1+cell": {
     "cellMetadata": {},
     "inputWidgets": {},
     "nuid": "f485ef7e-f700-4b0f-80af-6049b4a90df2",
     "showTitle": false,
     "tableResultSettingsMap": {},
     "title": ""
    }
   },
   "source": [
    "##### 180. Consecutive Numbers\n",
    "\n",
    "##### Write a SQL query to find all numbers that appear at least three times consecutively. <br>\n",
    "+----+-----+<br>\n",
    "| Id | Num |<br>\n",
    "+----+-----+<br>\n",
    "| 1 | 1 |<br>\n",
    "| 2 | 1 |<br>\n",
    "| 3 | 1 |<br>\n",
    "| 4 | 2 |<br>\n",
    "| 5 | 1 |<br>\n",
    "| 6 | 2 |<br>\n",
    "| 7 | 2 |<br>\n",
    "+----+-----+<br>\n",
    "For example, given the above Logs table, 1 is the only number that appears consecutively for at least three times.<br>\n",
    "+-----------------+<br>\n",
    "| ConsecutiveNums |<br>\n",
    "+-----------------+<br>\n",
    "| 1 |<br>\n",
    "+-----------------+<br>"
   ]
  },
  {
   "cell_type": "markdown",
   "metadata": {
    "application/vnd.databricks.v1+cell": {
     "cellMetadata": {},
     "inputWidgets": {},
     "nuid": "cd7c7992-bd79-40d0-a13f-89499c5ff1f2",
     "showTitle": false,
     "tableResultSettingsMap": {},
     "title": ""
    }
   },
   "source": [
    "##### PySpark Solution"
   ]
  },
  {
   "cell_type": "code",
   "execution_count": 0,
   "metadata": {
    "application/vnd.databricks.v1+cell": {
     "cellMetadata": {
      "byteLimit": 2048000,
      "rowLimit": 10000
     },
     "inputWidgets": {},
     "nuid": "dd084d81-0900-47fd-92f7-e46de508d089",
     "showTitle": false,
     "tableResultSettingsMap": {},
     "title": ""
    }
   },
   "outputs": [],
   "source": [
    "df_num = (spark\n",
    "          .createDataFrame(\n",
    "            data = [(1,1), (2,1), (3,1), (4,2), (5,2), (6,2), (7,3), (8,1), (9,3)],\n",
    "            schema = ['Id', 'Num']\n",
    "            )\n",
    "          )\n",
    "\n",
    "# df_num.display()"
   ]
  },
  {
   "cell_type": "code",
   "execution_count": 0,
   "metadata": {
    "application/vnd.databricks.v1+cell": {
     "cellMetadata": {
      "byteLimit": 2048000,
      "rowLimit": 10000
     },
     "inputWidgets": {},
     "nuid": "23b92249-b1cc-4a75-930b-23e8c8d294ef",
     "showTitle": false,
     "tableResultSettingsMap": {},
     "title": ""
    }
   },
   "outputs": [],
   "source": [
    "from pyspark.sql.functions import lead\n",
    "\n",
    "df_num_lead = (df_num\n",
    "               .withColumn(\"Next_num\", lead('Num', 1).over(Window.orderBy('Id')))\n",
    "               .withColumn(\"Next_to_next_num\", lead('Next_num', 1).over(Window.orderBy('Id')))\n",
    "               )\n",
    "\n",
    "df_num_lead.display()\n",
    "\n",
    "df_num_most = (df_num_lead\n",
    "               .filter((col(\"Num\") == col(\"Next_num\")) & (col(\"Next_num\") == col(\"Next_to_next_num\")))\n",
    "               .select(col(\"Num\").alias(\"ConsecutiveNums\"))\n",
    "               )\n",
    "\n",
    "df_num_most.display()"
   ]
  }
 ],
 "metadata": {
  "application/vnd.databricks.v1+notebook": {
   "computePreferences": null,
   "dashboards": [],
   "environmentMetadata": null,
   "inputWidgetPreferences": null,
   "language": "python",
   "notebookMetadata": {
    "pythonIndentUnit": 2
   },
   "notebookName": "180. Consecutive Numbers",
   "widgets": {}
  },
  "language_info": {
   "name": "python"
  }
 },
 "nbformat": 4,
 "nbformat_minor": 0
}
