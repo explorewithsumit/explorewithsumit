{
 "cells": [
  {
   "cell_type": "markdown",
   "metadata": {
    "application/vnd.databricks.v1+cell": {
     "cellMetadata": {},
     "inputWidgets": {},
     "nuid": "783967a2-2c5a-46bc-bf20-645616b956c1",
     "showTitle": false,
     "tableResultSettingsMap": {},
     "title": ""
    }
   },
   "source": [
    "##### 177. Nth Highest Salary\n",
    "\n",
    "##### Write a SQL query to get the nth highest salary from the Employee table. <br>\n",
    "+----+--------+<br>\n",
    "| Id | Salary |<br>\n",
    "+----+--------+<br>\n",
    "| 1 | 100 |<br>\n",
    "| 2 | 200 |<br>\n",
    "| 3 | 300 |<br>\n",
    "+----+--------+<br>\n",
    "For example, given the above Employee table, the nth highest salary where n = 2 is 200. If there is no nth highest salary, then the query should return null.<br>\n",
    "+------------------------+<br>\n",
    "| getNthHighestSalary(2) |<br>\n",
    "+------------------------+<br>\n",
    "| 200 |<br>\n",
    "+------------------------+<br>"
   ]
  },
  {
   "cell_type": "markdown",
   "metadata": {
    "application/vnd.databricks.v1+cell": {
     "cellMetadata": {},
     "inputWidgets": {},
     "nuid": "f07c5b28-435e-4cad-bb3f-944bb1e58b7e",
     "showTitle": false,
     "tableResultSettingsMap": {},
     "title": ""
    }
   },
   "source": [
    "##### PySpark Solution"
   ]
  },
  {
   "cell_type": "code",
   "execution_count": 0,
   "metadata": {
    "application/vnd.databricks.v1+cell": {
     "cellMetadata": {
      "byteLimit": 2048000,
      "rowLimit": 10000
     },
     "inputWidgets": {},
     "nuid": "17937c06-c9bb-4a72-892d-8741d76ba570",
     "showTitle": false,
     "tableResultSettingsMap": {},
     "title": ""
    }
   },
   "outputs": [],
   "source": [
    "def nthHighestSalary(df, n):\n",
    "  df_nth_highest_sal = (df_sal\n",
    "                      .withColumn('rank', dense_rank().over(windowSpec))\n",
    "                      .filter(col(\"rank\") == n)\n",
    "                      .withColumnRenamed(\"Salary\", f\"{n}th_HighestSalary\")\n",
    "                      .drop(\"Id\")\n",
    "                      .drop(\"rank\")\n",
    "                      )\n",
    "  return df_nth_highest_sal"
   ]
  },
  {
   "cell_type": "code",
   "execution_count": 0,
   "metadata": {
    "application/vnd.databricks.v1+cell": {
     "cellMetadata": {
      "byteLimit": 2048000,
      "rowLimit": 10000
     },
     "inputWidgets": {},
     "nuid": "804b039c-4e76-4e63-a334-535eca0ebfb4",
     "showTitle": false,
     "tableResultSettingsMap": {},
     "title": ""
    }
   },
   "outputs": [],
   "source": [
    "n = 5\n",
    "display(nthHighestSalary(df_sal, n))"
   ]
  },
  {
   "cell_type": "code",
   "execution_count": 0,
   "metadata": {
    "application/vnd.databricks.v1+cell": {
     "cellMetadata": {
      "byteLimit": 2048000,
      "rowLimit": 10000
     },
     "inputWidgets": {},
     "nuid": "f7a35f4e-ceee-405e-a1d3-360900ebde8e",
     "showTitle": false,
     "tableResultSettingsMap": {},
     "title": ""
    }
   },
   "outputs": [],
   "source": [
    "n = 3\n",
    "display(nthHighestSalary(df_sal, n))"
   ]
  }
 ],
 "metadata": {
  "application/vnd.databricks.v1+notebook": {
   "computePreferences": null,
   "dashboards": [],
   "environmentMetadata": null,
   "inputWidgetPreferences": null,
   "language": "python",
   "notebookMetadata": {
    "pythonIndentUnit": 2
   },
   "notebookName": "177. Nth Highest Salary",
   "widgets": {}
  },
  "language_info": {
   "name": "python"
  }
 },
 "nbformat": 4,
 "nbformat_minor": 0
}
