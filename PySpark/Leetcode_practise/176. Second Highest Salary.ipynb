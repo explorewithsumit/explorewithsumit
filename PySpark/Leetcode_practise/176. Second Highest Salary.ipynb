{
 "cells": [
  {
   "cell_type": "markdown",
   "metadata": {
    "application/vnd.databricks.v1+cell": {
     "cellMetadata": {
      "byteLimit": 2048000,
      "rowLimit": 10000
     },
     "inputWidgets": {},
     "nuid": "cf26f5f3-7614-4aeb-8cf8-797abf1c62b5",
     "showTitle": false,
     "tableResultSettingsMap": {},
     "title": ""
    }
   },
   "source": [
    "##### 176. Second Highest Salary\n",
    "\n",
    "Write a SQL query to get the second highest salary from the `Employee` table.\n",
    "\n",
    "#### Table: Employee\n",
    "\n",
    "| Id  | Salary |\n",
    "|-----|--------|\n",
    "| 1   | 100    |\n",
    "| 2   | 200    |\n",
    "| 3   | 300    |\n",
    "\n",
    "---\n",
    "\n",
    "##### Expected Output\n",
    "\n",
    "For example, given the above `Employee` table, the query should return **200** as the second highest salary.  \n",
    "If there is no second highest salary, then the query should return **null**.\n",
    "\n",
    "| SecondHighestSalary |\n",
    "|---------------------|\n",
    "| 200                 |\n"
   ]
  },
  {
   "cell_type": "markdown",
   "metadata": {
    "application/vnd.databricks.v1+cell": {
     "cellMetadata": {
      "byteLimit": 2048000,
      "rowLimit": 10000
     },
     "inputWidgets": {},
     "nuid": "0aa616be-2902-4484-ab16-10e757710780",
     "showTitle": false,
     "tableResultSettingsMap": {},
     "title": ""
    }
   },
   "source": [
    "##### PySpark Solution"
   ]
  },
  {
   "cell_type": "code",
   "execution_count": 0,
   "metadata": {
    "application/vnd.databricks.v1+cell": {
     "cellMetadata": {
      "byteLimit": 2048000,
      "rowLimit": 10000
     },
     "inputWidgets": {},
     "nuid": "8b5112ec-5e14-4adb-bb1c-18cc4e76e9e5",
     "showTitle": false,
     "tableResultSettingsMap": {},
     "title": ""
    }
   },
   "outputs": [],
   "source": [
    "df_sal = spark.createDataFrame(data = [(1, 100), (2, 200), (3, 300), (4, 400)], schema = ['Id', 'Salary'])\n",
    "df_sal.display()"
   ]
  },
  {
   "cell_type": "code",
   "execution_count": 0,
   "metadata": {
    "application/vnd.databricks.v1+cell": {
     "cellMetadata": {
      "byteLimit": 2048000,
      "rowLimit": 10000
     },
     "inputWidgets": {},
     "nuid": "0e05b732-8fd8-4bb7-8d4a-43ab8b7ec0e8",
     "showTitle": false,
     "tableResultSettingsMap": {},
     "title": ""
    }
   },
   "outputs": [],
   "source": [
    "from pyspark.sql.functions import dense_rank, col\n",
    "from pyspark.sql.window import Window\n",
    "\n",
    "windowSpec = Window.partitionBy('Id').orderBy('Salary')\n",
    "\n",
    "df_2nd_highest_sal = (df_sal\n",
    "                      .withColumn('rank', dense_rank().over(windowSpec))\n",
    "                      .filter(col(\"rank\") == 2)\n",
    "                      .withColumnRenamed(\"Salary\", \"SecondHighestSalary\")\n",
    "                      .drop(\"Id\")\n",
    "                      .drop(\"rank\")\n",
    "                      )\n",
    "\n",
    "df_2nd_highest_sal.display()"
   ]
  },
  {
   "cell_type": "code",
   "execution_count": 0,
   "metadata": {
    "application/vnd.databricks.v1+cell": {
     "cellMetadata": {
      "byteLimit": 2048000,
      "rowLimit": 10000
     },
     "inputWidgets": {},
     "nuid": "b9e5d70a-f388-4b65-93c5-d0808ec1e6eb",
     "showTitle": false,
     "tableResultSettingsMap": {},
     "title": ""
    }
   },
   "outputs": [],
   "source": [
    "window_spec = Window.orderBy(col(\"Salary\").desc())\n",
    "\n",
    "ranked_df = df_sal.withColumn(\"rank\", dense_rank().over(window_spec))\n",
    "\n",
    "second_highest_df = ranked_df.filter(col(\"rank\") == 2).select(col(\"Salary\").alias(\"SecondHighestSalary\"))\n",
    "\n",
    "from pyspark.sql.functions import lit\n",
    "\n",
    "if second_highest_df.count() == 0:\n",
    "    result_df = spark.createDataFrame([(None,)], [\"SecondHighestSalary\"])\n",
    "else:\n",
    "    result_df = second_highest_df\n",
    "\n",
    "display(second_highest_df)"
   ]
  }
 ],
 "metadata": {
  "application/vnd.databricks.v1+notebook": {
   "computePreferences": null,
   "dashboards": [],
   "environmentMetadata": null,
   "inputWidgetPreferences": null,
   "language": "python",
   "notebookMetadata": {
    "pythonIndentUnit": 2
   },
   "notebookName": "176. Second Highest Salary",
   "widgets": {}
  },
  "language_info": {
   "name": "python"
  }
 },
 "nbformat": 4,
 "nbformat_minor": 0
}
