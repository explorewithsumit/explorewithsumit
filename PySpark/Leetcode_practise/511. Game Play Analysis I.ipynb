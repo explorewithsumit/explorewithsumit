{
 "cells": [
  {
   "cell_type": "markdown",
   "metadata": {
    "application/vnd.databricks.v1+cell": {
     "cellMetadata": {},
     "inputWidgets": {},
     "nuid": "bfab6a1e-7aff-4546-9b09-adddea2263c2",
     "showTitle": false,
     "tableResultSettingsMap": {},
     "title": ""
    }
   },
   "source": [
    "Table: Activity\n",
    "| Column Name |    Type    |\n",
    "|-------------|------------|\n",
    "| player_id   | int        |\n",
    "| device_id   | int        |\n",
    "| event_date  | date       |\n",
    "| games_played| int        |\n",
    "\n",
    "- (player_id, event_date) is the primary key of this table.\n",
    "- This table shows the activity of players of some game.\n",
    "- Each row is a record of a player who logged in and played a number of games\n",
    "- (possibly 0) before logging out on some day using some device.\n",
    "\n",
    "##### Write an SQL query that reports the first login date for each player.\n",
    "\n",
    "The query result format is in the following example:\n",
    "\n",
    "Activity table:\n",
    "| player_id | device_id | event_date | games_played |\n",
    "|-----------|-----------|------------|--------------|\n",
    "| 1         | 2         | 2016-03-01 | 5            |\n",
    "| 1         | 2         | 2016-05-02 | 6            |\n",
    "| 2         | 3         | 2017-06-25 | 1            |\n",
    "| 3         | 1         | 2016-03-02 | 0            |\n",
    "| 3         | 4         | 2018-07-03 | 5            |\n",
    "\n",
    "Result table: \n",
    "| player_id | first_login |\n",
    "|-----------|-------------|\n",
    "| 1         | 2016-03-01  |\n",
    "| 2         | 2017-06-25  |\n",
    "| 3         | 2016-03-02  |\n"
   ]
  },
  {
   "cell_type": "markdown",
   "metadata": {
    "application/vnd.databricks.v1+cell": {
     "cellMetadata": {},
     "inputWidgets": {},
     "nuid": "b62573eb-ff95-4806-9c2e-5e5976006455",
     "showTitle": false,
     "tableResultSettingsMap": {},
     "title": ""
    }
   },
   "source": [
    "##### PySpark Solution"
   ]
  },
  {
   "cell_type": "code",
   "execution_count": 0,
   "metadata": {
    "application/vnd.databricks.v1+cell": {
     "cellMetadata": {
      "byteLimit": 2048000,
      "rowLimit": 10000
     },
     "inputWidgets": {},
     "nuid": "c047a9e4-b517-481c-adf4-d0c5430d59b9",
     "showTitle": false,
     "tableResultSettingsMap": {},
     "title": ""
    }
   },
   "outputs": [],
   "source": [
    "# from pyspark.sql.types import StructType, StructField, IntegerType, DateType\n",
    "\n",
    "# schema = StructType([\n",
    "#   StructField(\"player_id\", IntegerType(), True),\n",
    "#   StructField(\"device_id\", IntegerType(), True),\n",
    "#   StructField(\"event_date\", DateType(), True),\n",
    "#   StructField(\"games_played\", IntegerType(), True)\n",
    "# ])\n",
    "\n",
    "schema = \"player_id int, device_id int, event_date string, games_played int\"\n",
    "data = [(1,\t2, \"2016-03-01\", 5),\n",
    "        (1,\t2, \"2016-05-02\", 6),\n",
    "        (2,\t3, \"2017-06-25\", 1),\n",
    "        (3,\t1, \"2016-03-02\", 0),\n",
    "        (3,\t4, \"2018-07-03\", 5)]\n",
    "\n",
    "df = spark.createDataFrame(data = data, schema = schema)\n",
    "\n",
    "df = df.withColumn(\"event_date\", df[\"event_date\"].cast(DateType()))\n",
    "df.display()"
   ]
  },
  {
   "cell_type": "code",
   "execution_count": 0,
   "metadata": {
    "application/vnd.databricks.v1+cell": {
     "cellMetadata": {
      "byteLimit": 2048000,
      "rowLimit": 10000
     },
     "inputWidgets": {},
     "nuid": "b24879dc-c5d8-463b-a46a-83cadf1203b5",
     "showTitle": false,
     "tableResultSettingsMap": {},
     "title": ""
    }
   },
   "outputs": [],
   "source": [
    "from pyspark.sql.functions import rank\n",
    "from pyspark.sql.window import Window\n",
    "\n",
    "windowSpec = Window.partitionBy(\"player_id\").orderBy(\"event_date\")\n",
    "\n",
    "df2 = (df\n",
    "       .withColumn(\"rank\", rank().over(windowSpec))\n",
    "       .select(\"player_id\")\n",
    "       .filter(\"rank = 1\")\n",
    "       )\n",
    "\n",
    "df2.display()"
   ]
  }
 ],
 "metadata": {
  "application/vnd.databricks.v1+notebook": {
   "computePreferences": null,
   "dashboards": [],
   "environmentMetadata": null,
   "inputWidgetPreferences": null,
   "language": "python",
   "notebookMetadata": {
    "pythonIndentUnit": 2
   },
   "notebookName": "511. Game Play Analysis I",
   "widgets": {}
  },
  "language_info": {
   "name": "python"
  }
 },
 "nbformat": 4,
 "nbformat_minor": 0
}
